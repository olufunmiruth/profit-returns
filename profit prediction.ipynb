{
 "cells": [
  {
   "cell_type": "code",
   "execution_count": 144,
   "metadata": {},
   "outputs": [],
   "source": [
    "import pandas as pd"
   ]
  },
  {
   "cell_type": "code",
   "execution_count": 145,
   "metadata": {},
   "outputs": [
    {
     "data": {
      "text/html": [
       "<div>\n",
       "<style scoped>\n",
       "    .dataframe tbody tr th:only-of-type {\n",
       "        vertical-align: middle;\n",
       "    }\n",
       "\n",
       "    .dataframe tbody tr th {\n",
       "        vertical-align: top;\n",
       "    }\n",
       "\n",
       "    .dataframe thead th {\n",
       "        text-align: right;\n",
       "    }\n",
       "</style>\n",
       "<table border=\"1\" class=\"dataframe\">\n",
       "  <thead>\n",
       "    <tr style=\"text-align: right;\">\n",
       "      <th></th>\n",
       "      <th>Item_ID</th>\n",
       "      <th>Store_ID</th>\n",
       "      <th>Item_Store_ID</th>\n",
       "      <th>Item_Weight</th>\n",
       "      <th>Item_Sugar_Content</th>\n",
       "      <th>Item_Visibility</th>\n",
       "      <th>Item_Type</th>\n",
       "      <th>Item_Price</th>\n",
       "      <th>Store_Start_Year</th>\n",
       "      <th>Store_Size</th>\n",
       "      <th>Store_Location_Type</th>\n",
       "      <th>Store_Type</th>\n",
       "      <th>Item_Store_Returns</th>\n",
       "    </tr>\n",
       "  </thead>\n",
       "  <tbody>\n",
       "    <tr>\n",
       "      <td>0</td>\n",
       "      <td>DRA12</td>\n",
       "      <td>BABATUNJI010</td>\n",
       "      <td>DRA12_BABATUNJI010</td>\n",
       "      <td>11.6</td>\n",
       "      <td>Low Sugar</td>\n",
       "      <td>0.068535</td>\n",
       "      <td>Soft Drinks</td>\n",
       "      <td>357.54</td>\n",
       "      <td>2005</td>\n",
       "      <td>NaN</td>\n",
       "      <td>Cluster 3</td>\n",
       "      <td>Grocery Store</td>\n",
       "      <td>709.08</td>\n",
       "    </tr>\n",
       "    <tr>\n",
       "      <td>1</td>\n",
       "      <td>DRA12</td>\n",
       "      <td>BABATUNJI013</td>\n",
       "      <td>DRA12_BABATUNJI013</td>\n",
       "      <td>11.6</td>\n",
       "      <td>Low Sugar</td>\n",
       "      <td>0.040912</td>\n",
       "      <td>Soft Drinks</td>\n",
       "      <td>355.79</td>\n",
       "      <td>1994</td>\n",
       "      <td>High</td>\n",
       "      <td>Cluster 3</td>\n",
       "      <td>Supermarket Type1</td>\n",
       "      <td>6381.69</td>\n",
       "    </tr>\n",
       "    <tr>\n",
       "      <td>2</td>\n",
       "      <td>DRA12</td>\n",
       "      <td>BABATUNJI017</td>\n",
       "      <td>DRA12_BABATUNJI017</td>\n",
       "      <td>11.6</td>\n",
       "      <td>Low Sugar</td>\n",
       "      <td>0.041178</td>\n",
       "      <td>Soft Drinks</td>\n",
       "      <td>350.79</td>\n",
       "      <td>2014</td>\n",
       "      <td>NaN</td>\n",
       "      <td>Cluster 2</td>\n",
       "      <td>Supermarket Type1</td>\n",
       "      <td>6381.69</td>\n",
       "    </tr>\n",
       "    <tr>\n",
       "      <td>3</td>\n",
       "      <td>DRA12</td>\n",
       "      <td>BABATUNJI018</td>\n",
       "      <td>DRA12_BABATUNJI018</td>\n",
       "      <td>11.6</td>\n",
       "      <td>Low Sugar</td>\n",
       "      <td>0.041113</td>\n",
       "      <td>Soft Drinks</td>\n",
       "      <td>355.04</td>\n",
       "      <td>2016</td>\n",
       "      <td>Medium</td>\n",
       "      <td>Cluster 3</td>\n",
       "      <td>Supermarket Type2</td>\n",
       "      <td>2127.23</td>\n",
       "    </tr>\n",
       "    <tr>\n",
       "      <td>4</td>\n",
       "      <td>DRA12</td>\n",
       "      <td>BABATUNJI035</td>\n",
       "      <td>DRA12_BABATUNJI035</td>\n",
       "      <td>11.6</td>\n",
       "      <td>Ultra Low Sugar</td>\n",
       "      <td>0.000000</td>\n",
       "      <td>Soft Drinks</td>\n",
       "      <td>354.79</td>\n",
       "      <td>2011</td>\n",
       "      <td>Small</td>\n",
       "      <td>Cluster 2</td>\n",
       "      <td>Supermarket Type1</td>\n",
       "      <td>2481.77</td>\n",
       "    </tr>\n",
       "  </tbody>\n",
       "</table>\n",
       "</div>"
      ],
      "text/plain": [
       "  Item_ID      Store_ID       Item_Store_ID  Item_Weight Item_Sugar_Content  \\\n",
       "0   DRA12  BABATUNJI010  DRA12_BABATUNJI010         11.6          Low Sugar   \n",
       "1   DRA12  BABATUNJI013  DRA12_BABATUNJI013         11.6          Low Sugar   \n",
       "2   DRA12  BABATUNJI017  DRA12_BABATUNJI017         11.6          Low Sugar   \n",
       "3   DRA12  BABATUNJI018  DRA12_BABATUNJI018         11.6          Low Sugar   \n",
       "4   DRA12  BABATUNJI035  DRA12_BABATUNJI035         11.6    Ultra Low Sugar   \n",
       "\n",
       "   Item_Visibility    Item_Type  Item_Price  Store_Start_Year Store_Size  \\\n",
       "0         0.068535  Soft Drinks      357.54              2005        NaN   \n",
       "1         0.040912  Soft Drinks      355.79              1994       High   \n",
       "2         0.041178  Soft Drinks      350.79              2014        NaN   \n",
       "3         0.041113  Soft Drinks      355.04              2016     Medium   \n",
       "4         0.000000  Soft Drinks      354.79              2011      Small   \n",
       "\n",
       "  Store_Location_Type         Store_Type  Item_Store_Returns  \n",
       "0           Cluster 3      Grocery Store              709.08  \n",
       "1           Cluster 3  Supermarket Type1             6381.69  \n",
       "2           Cluster 2  Supermarket Type1             6381.69  \n",
       "3           Cluster 3  Supermarket Type2             2127.23  \n",
       "4           Cluster 2  Supermarket Type1             2481.77  "
      ]
     },
     "execution_count": 145,
     "metadata": {},
     "output_type": "execute_result"
    }
   ],
   "source": [
    "df = pd.read_csv(\"train(2).csv\")\n",
    "df.head()"
   ]
  },
  {
   "cell_type": "code",
   "execution_count": 146,
   "metadata": {},
   "outputs": [
    {
     "data": {
      "text/plain": [
       "(4990, 13)"
      ]
     },
     "execution_count": 146,
     "metadata": {},
     "output_type": "execute_result"
    }
   ],
   "source": [
    "df.shape"
   ]
  },
  {
   "cell_type": "code",
   "execution_count": 147,
   "metadata": {},
   "outputs": [
    {
     "name": "stdout",
     "output_type": "stream",
     "text": [
      "<class 'pandas.core.frame.DataFrame'>\n",
      "RangeIndex: 4990 entries, 0 to 4989\n",
      "Data columns (total 13 columns):\n",
      "Item_ID                4990 non-null object\n",
      "Store_ID               4990 non-null object\n",
      "Item_Store_ID          4990 non-null object\n",
      "Item_Weight            4188 non-null float64\n",
      "Item_Sugar_Content     4990 non-null object\n",
      "Item_Visibility        4990 non-null float64\n",
      "Item_Type              4990 non-null object\n",
      "Item_Price             4990 non-null float64\n",
      "Store_Start_Year       4990 non-null int64\n",
      "Store_Size             3540 non-null object\n",
      "Store_Location_Type    4990 non-null object\n",
      "Store_Type             4990 non-null object\n",
      "Item_Store_Returns     4990 non-null float64\n",
      "dtypes: float64(4), int64(1), object(8)\n",
      "memory usage: 506.9+ KB\n"
     ]
    }
   ],
   "source": [
    "df.info()# just item weigh and store size have null values"
   ]
  },
  {
   "cell_type": "code",
   "execution_count": 148,
   "metadata": {},
   "outputs": [
    {
     "data": {
      "text/plain": [
       "Item_ID                1451\n",
       "Store_ID                 10\n",
       "Item_Store_ID          4990\n",
       "Item_Weight             399\n",
       "Item_Sugar_Content        3\n",
       "Item_Visibility        4638\n",
       "Item_Type                16\n",
       "Item_Price             3522\n",
       "Store_Start_Year          9\n",
       "Store_Size                3\n",
       "Store_Location_Type       3\n",
       "Store_Type                4\n",
       "Item_Store_Returns     2686\n",
       "dtype: int64"
      ]
     },
     "execution_count": 148,
     "metadata": {},
     "output_type": "execute_result"
    }
   ],
   "source": [
    "#check for unique values\n",
    "df.nunique()"
   ]
  },
  {
   "cell_type": "code",
   "execution_count": 149,
   "metadata": {},
   "outputs": [
    {
     "data": {
      "text/html": [
       "<div>\n",
       "<style scoped>\n",
       "    .dataframe tbody tr th:only-of-type {\n",
       "        vertical-align: middle;\n",
       "    }\n",
       "\n",
       "    .dataframe tbody tr th {\n",
       "        vertical-align: top;\n",
       "    }\n",
       "\n",
       "    .dataframe thead th {\n",
       "        text-align: right;\n",
       "    }\n",
       "</style>\n",
       "<table border=\"1\" class=\"dataframe\">\n",
       "  <thead>\n",
       "    <tr style=\"text-align: right;\">\n",
       "      <th></th>\n",
       "      <th>Item_Weight</th>\n",
       "      <th>Item_Visibility</th>\n",
       "      <th>Item_Price</th>\n",
       "      <th>Store_Start_Year</th>\n",
       "      <th>Item_Store_Returns</th>\n",
       "    </tr>\n",
       "  </thead>\n",
       "  <tbody>\n",
       "    <tr>\n",
       "      <td>count</td>\n",
       "      <td>4188.000000</td>\n",
       "      <td>4990.000000</td>\n",
       "      <td>4990.000000</td>\n",
       "      <td>4990.000000</td>\n",
       "      <td>4990.000000</td>\n",
       "    </tr>\n",
       "    <tr>\n",
       "      <td>mean</td>\n",
       "      <td>12.908838</td>\n",
       "      <td>0.066916</td>\n",
       "      <td>391.803796</td>\n",
       "      <td>2004.783567</td>\n",
       "      <td>6103.520164</td>\n",
       "    </tr>\n",
       "    <tr>\n",
       "      <td>std</td>\n",
       "      <td>4.703256</td>\n",
       "      <td>0.053058</td>\n",
       "      <td>119.378259</td>\n",
       "      <td>8.283151</td>\n",
       "      <td>4447.333835</td>\n",
       "    </tr>\n",
       "    <tr>\n",
       "      <td>min</td>\n",
       "      <td>4.555000</td>\n",
       "      <td>0.000000</td>\n",
       "      <td>78.730000</td>\n",
       "      <td>1992.000000</td>\n",
       "      <td>83.230000</td>\n",
       "    </tr>\n",
       "    <tr>\n",
       "      <td>25%</td>\n",
       "      <td>8.767500</td>\n",
       "      <td>0.027273</td>\n",
       "      <td>307.890000</td>\n",
       "      <td>1994.000000</td>\n",
       "      <td>2757.660000</td>\n",
       "    </tr>\n",
       "    <tr>\n",
       "      <td>50%</td>\n",
       "      <td>12.600000</td>\n",
       "      <td>0.053564</td>\n",
       "      <td>393.860000</td>\n",
       "      <td>2006.000000</td>\n",
       "      <td>5374.675000</td>\n",
       "    </tr>\n",
       "    <tr>\n",
       "      <td>75%</td>\n",
       "      <td>17.100000</td>\n",
       "      <td>0.095358</td>\n",
       "      <td>465.067500</td>\n",
       "      <td>2011.000000</td>\n",
       "      <td>8522.240000</td>\n",
       "    </tr>\n",
       "    <tr>\n",
       "      <td>max</td>\n",
       "      <td>21.350000</td>\n",
       "      <td>0.328391</td>\n",
       "      <td>667.220000</td>\n",
       "      <td>2016.000000</td>\n",
       "      <td>32717.410000</td>\n",
       "    </tr>\n",
       "  </tbody>\n",
       "</table>\n",
       "</div>"
      ],
      "text/plain": [
       "       Item_Weight  Item_Visibility   Item_Price  Store_Start_Year  \\\n",
       "count  4188.000000      4990.000000  4990.000000       4990.000000   \n",
       "mean     12.908838         0.066916   391.803796       2004.783567   \n",
       "std       4.703256         0.053058   119.378259          8.283151   \n",
       "min       4.555000         0.000000    78.730000       1992.000000   \n",
       "25%       8.767500         0.027273   307.890000       1994.000000   \n",
       "50%      12.600000         0.053564   393.860000       2006.000000   \n",
       "75%      17.100000         0.095358   465.067500       2011.000000   \n",
       "max      21.350000         0.328391   667.220000       2016.000000   \n",
       "\n",
       "       Item_Store_Returns  \n",
       "count         4990.000000  \n",
       "mean          6103.520164  \n",
       "std           4447.333835  \n",
       "min             83.230000  \n",
       "25%           2757.660000  \n",
       "50%           5374.675000  \n",
       "75%           8522.240000  \n",
       "max          32717.410000  "
      ]
     },
     "execution_count": 149,
     "metadata": {},
     "output_type": "execute_result"
    }
   ],
   "source": [
    "#the descriptive statistics of the numerical features\n",
    "df.describe()"
   ]
  },
  {
   "cell_type": "code",
   "execution_count": 150,
   "metadata": {
    "scrolled": false
   },
   "outputs": [
    {
     "data": {
      "text/plain": [
       "Item_ID                   0\n",
       "Store_ID                  0\n",
       "Item_Store_ID             0\n",
       "Item_Weight             802\n",
       "Item_Sugar_Content        0\n",
       "Item_Visibility           0\n",
       "Item_Type                 0\n",
       "Item_Price                0\n",
       "Store_Start_Year          0\n",
       "Store_Size             1450\n",
       "Store_Location_Type       0\n",
       "Store_Type                0\n",
       "Item_Store_Returns        0\n",
       "dtype: int64"
      ]
     },
     "execution_count": 150,
     "metadata": {},
     "output_type": "execute_result"
    }
   ],
   "source": [
    "#check for total number of null values\n",
    "df.isnull().sum()"
   ]
  },
  {
   "cell_type": "code",
   "execution_count": 151,
   "metadata": {},
   "outputs": [],
   "source": [
    "#using simple imputer to replace null values of item weight with the mode\n",
    "import numpy as np\n",
    "from sklearn.impute import SimpleImputer\n",
    "weigh_impute = SimpleImputer(missing_values=np.nan,strategy=\"most_frequent\")\n",
    "df[[\"Item_Weight\"]] = weigh_impute.fit_transform(df[[\"Item_Weight\"]]) #fills with the mode"
   ]
  },
  {
   "cell_type": "code",
   "execution_count": 152,
   "metadata": {},
   "outputs": [],
   "source": [
    "#using simple imputer to replace null values of item weight with the mode\n",
    "from sklearn.impute import SimpleImputer\n",
    "size_impute = SimpleImputer(missing_values=np.nan,strategy=\"most_frequent\")\n",
    "df[[\"Store_Size\"]] = size_impute.fit_transform(df[[\"Store_Size\"]]) #fills with the mode"
   ]
  },
  {
   "cell_type": "code",
   "execution_count": 153,
   "metadata": {},
   "outputs": [
    {
     "data": {
      "text/plain": [
       "Item_ID                0\n",
       "Store_ID               0\n",
       "Item_Store_ID          0\n",
       "Item_Weight            0\n",
       "Item_Sugar_Content     0\n",
       "Item_Visibility        0\n",
       "Item_Type              0\n",
       "Item_Price             0\n",
       "Store_Start_Year       0\n",
       "Store_Size             0\n",
       "Store_Location_Type    0\n",
       "Store_Type             0\n",
       "Item_Store_Returns     0\n",
       "dtype: int64"
      ]
     },
     "execution_count": 153,
     "metadata": {},
     "output_type": "execute_result"
    }
   ],
   "source": [
    "#no more null values\n",
    "df.isnull().sum()"
   ]
  },
  {
   "cell_type": "code",
   "execution_count": 154,
   "metadata": {},
   "outputs": [],
   "source": [
    "#drop columns with different IDs\n",
    "df = df.drop([\"Item_ID\",\"Store_ID\",\"Item_Store_ID\",\"Store_Start_Year\"],axis = \"columns\")"
   ]
  },
  {
   "cell_type": "code",
   "execution_count": 155,
   "metadata": {
    "scrolled": true
   },
   "outputs": [
    {
     "data": {
      "text/html": [
       "<div>\n",
       "<style scoped>\n",
       "    .dataframe tbody tr th:only-of-type {\n",
       "        vertical-align: middle;\n",
       "    }\n",
       "\n",
       "    .dataframe tbody tr th {\n",
       "        vertical-align: top;\n",
       "    }\n",
       "\n",
       "    .dataframe thead th {\n",
       "        text-align: right;\n",
       "    }\n",
       "</style>\n",
       "<table border=\"1\" class=\"dataframe\">\n",
       "  <thead>\n",
       "    <tr style=\"text-align: right;\">\n",
       "      <th></th>\n",
       "      <th>Item_Weight</th>\n",
       "      <th>Item_Sugar_Content</th>\n",
       "      <th>Item_Visibility</th>\n",
       "      <th>Item_Type</th>\n",
       "      <th>Item_Price</th>\n",
       "      <th>Store_Size</th>\n",
       "      <th>Store_Location_Type</th>\n",
       "      <th>Store_Type</th>\n",
       "      <th>Item_Store_Returns</th>\n",
       "    </tr>\n",
       "  </thead>\n",
       "  <tbody>\n",
       "    <tr>\n",
       "      <td>0</td>\n",
       "      <td>11.6</td>\n",
       "      <td>Low Sugar</td>\n",
       "      <td>0.068535</td>\n",
       "      <td>Soft Drinks</td>\n",
       "      <td>357.54</td>\n",
       "      <td>Medium</td>\n",
       "      <td>Cluster 3</td>\n",
       "      <td>Grocery Store</td>\n",
       "      <td>709.08</td>\n",
       "    </tr>\n",
       "    <tr>\n",
       "      <td>1</td>\n",
       "      <td>11.6</td>\n",
       "      <td>Low Sugar</td>\n",
       "      <td>0.040912</td>\n",
       "      <td>Soft Drinks</td>\n",
       "      <td>355.79</td>\n",
       "      <td>High</td>\n",
       "      <td>Cluster 3</td>\n",
       "      <td>Supermarket Type1</td>\n",
       "      <td>6381.69</td>\n",
       "    </tr>\n",
       "    <tr>\n",
       "      <td>2</td>\n",
       "      <td>11.6</td>\n",
       "      <td>Low Sugar</td>\n",
       "      <td>0.041178</td>\n",
       "      <td>Soft Drinks</td>\n",
       "      <td>350.79</td>\n",
       "      <td>Medium</td>\n",
       "      <td>Cluster 2</td>\n",
       "      <td>Supermarket Type1</td>\n",
       "      <td>6381.69</td>\n",
       "    </tr>\n",
       "    <tr>\n",
       "      <td>3</td>\n",
       "      <td>11.6</td>\n",
       "      <td>Low Sugar</td>\n",
       "      <td>0.041113</td>\n",
       "      <td>Soft Drinks</td>\n",
       "      <td>355.04</td>\n",
       "      <td>Medium</td>\n",
       "      <td>Cluster 3</td>\n",
       "      <td>Supermarket Type2</td>\n",
       "      <td>2127.23</td>\n",
       "    </tr>\n",
       "    <tr>\n",
       "      <td>4</td>\n",
       "      <td>11.6</td>\n",
       "      <td>Ultra Low Sugar</td>\n",
       "      <td>0.000000</td>\n",
       "      <td>Soft Drinks</td>\n",
       "      <td>354.79</td>\n",
       "      <td>Small</td>\n",
       "      <td>Cluster 2</td>\n",
       "      <td>Supermarket Type1</td>\n",
       "      <td>2481.77</td>\n",
       "    </tr>\n",
       "  </tbody>\n",
       "</table>\n",
       "</div>"
      ],
      "text/plain": [
       "   Item_Weight Item_Sugar_Content  Item_Visibility    Item_Type  Item_Price  \\\n",
       "0         11.6          Low Sugar         0.068535  Soft Drinks      357.54   \n",
       "1         11.6          Low Sugar         0.040912  Soft Drinks      355.79   \n",
       "2         11.6          Low Sugar         0.041178  Soft Drinks      350.79   \n",
       "3         11.6          Low Sugar         0.041113  Soft Drinks      355.04   \n",
       "4         11.6    Ultra Low Sugar         0.000000  Soft Drinks      354.79   \n",
       "\n",
       "  Store_Size Store_Location_Type         Store_Type  Item_Store_Returns  \n",
       "0     Medium           Cluster 3      Grocery Store              709.08  \n",
       "1       High           Cluster 3  Supermarket Type1             6381.69  \n",
       "2     Medium           Cluster 2  Supermarket Type1             6381.69  \n",
       "3     Medium           Cluster 3  Supermarket Type2             2127.23  \n",
       "4      Small           Cluster 2  Supermarket Type1             2481.77  "
      ]
     },
     "execution_count": 155,
     "metadata": {},
     "output_type": "execute_result"
    }
   ],
   "source": [
    "df.head()"
   ]
  },
  {
   "cell_type": "code",
   "execution_count": 156,
   "metadata": {},
   "outputs": [],
   "source": [
    "X = df.drop([\"Item_Store_Returns\"],axis= \"columns\")#feature set"
   ]
  },
  {
   "cell_type": "code",
   "execution_count": 157,
   "metadata": {},
   "outputs": [],
   "source": [
    "y = df[\"Item_Store_Returns\"]#target variable"
   ]
  },
  {
   "cell_type": "code",
   "execution_count": 158,
   "metadata": {
    "scrolled": true
   },
   "outputs": [
    {
     "data": {
      "text/html": [
       "<div>\n",
       "<style scoped>\n",
       "    .dataframe tbody tr th:only-of-type {\n",
       "        vertical-align: middle;\n",
       "    }\n",
       "\n",
       "    .dataframe tbody tr th {\n",
       "        vertical-align: top;\n",
       "    }\n",
       "\n",
       "    .dataframe thead th {\n",
       "        text-align: right;\n",
       "    }\n",
       "</style>\n",
       "<table border=\"1\" class=\"dataframe\">\n",
       "  <thead>\n",
       "    <tr style=\"text-align: right;\">\n",
       "      <th></th>\n",
       "      <th>Item_Weight</th>\n",
       "      <th>Item_Sugar_Content</th>\n",
       "      <th>Item_Visibility</th>\n",
       "      <th>Item_Type</th>\n",
       "      <th>Item_Price</th>\n",
       "      <th>Store_Size</th>\n",
       "      <th>Store_Location_Type</th>\n",
       "      <th>Store_Type</th>\n",
       "    </tr>\n",
       "  </thead>\n",
       "  <tbody>\n",
       "    <tr>\n",
       "      <td>0</td>\n",
       "      <td>11.6</td>\n",
       "      <td>Low Sugar</td>\n",
       "      <td>0.068535</td>\n",
       "      <td>Soft Drinks</td>\n",
       "      <td>357.54</td>\n",
       "      <td>Medium</td>\n",
       "      <td>Cluster 3</td>\n",
       "      <td>Grocery Store</td>\n",
       "    </tr>\n",
       "    <tr>\n",
       "      <td>1</td>\n",
       "      <td>11.6</td>\n",
       "      <td>Low Sugar</td>\n",
       "      <td>0.040912</td>\n",
       "      <td>Soft Drinks</td>\n",
       "      <td>355.79</td>\n",
       "      <td>High</td>\n",
       "      <td>Cluster 3</td>\n",
       "      <td>Supermarket Type1</td>\n",
       "    </tr>\n",
       "    <tr>\n",
       "      <td>2</td>\n",
       "      <td>11.6</td>\n",
       "      <td>Low Sugar</td>\n",
       "      <td>0.041178</td>\n",
       "      <td>Soft Drinks</td>\n",
       "      <td>350.79</td>\n",
       "      <td>Medium</td>\n",
       "      <td>Cluster 2</td>\n",
       "      <td>Supermarket Type1</td>\n",
       "    </tr>\n",
       "    <tr>\n",
       "      <td>3</td>\n",
       "      <td>11.6</td>\n",
       "      <td>Low Sugar</td>\n",
       "      <td>0.041113</td>\n",
       "      <td>Soft Drinks</td>\n",
       "      <td>355.04</td>\n",
       "      <td>Medium</td>\n",
       "      <td>Cluster 3</td>\n",
       "      <td>Supermarket Type2</td>\n",
       "    </tr>\n",
       "    <tr>\n",
       "      <td>4</td>\n",
       "      <td>11.6</td>\n",
       "      <td>Ultra Low Sugar</td>\n",
       "      <td>0.000000</td>\n",
       "      <td>Soft Drinks</td>\n",
       "      <td>354.79</td>\n",
       "      <td>Small</td>\n",
       "      <td>Cluster 2</td>\n",
       "      <td>Supermarket Type1</td>\n",
       "    </tr>\n",
       "  </tbody>\n",
       "</table>\n",
       "</div>"
      ],
      "text/plain": [
       "   Item_Weight Item_Sugar_Content  Item_Visibility    Item_Type  Item_Price  \\\n",
       "0         11.6          Low Sugar         0.068535  Soft Drinks      357.54   \n",
       "1         11.6          Low Sugar         0.040912  Soft Drinks      355.79   \n",
       "2         11.6          Low Sugar         0.041178  Soft Drinks      350.79   \n",
       "3         11.6          Low Sugar         0.041113  Soft Drinks      355.04   \n",
       "4         11.6    Ultra Low Sugar         0.000000  Soft Drinks      354.79   \n",
       "\n",
       "  Store_Size Store_Location_Type         Store_Type  \n",
       "0     Medium           Cluster 3      Grocery Store  \n",
       "1       High           Cluster 3  Supermarket Type1  \n",
       "2     Medium           Cluster 2  Supermarket Type1  \n",
       "3     Medium           Cluster 3  Supermarket Type2  \n",
       "4      Small           Cluster 2  Supermarket Type1  "
      ]
     },
     "execution_count": 158,
     "metadata": {},
     "output_type": "execute_result"
    }
   ],
   "source": [
    "X.head()"
   ]
  },
  {
   "cell_type": "code",
   "execution_count": 159,
   "metadata": {
    "scrolled": false
   },
   "outputs": [
    {
     "data": {
      "text/plain": [
       "0     709.08\n",
       "1    6381.69\n",
       "2    6381.69\n",
       "3    2127.23\n",
       "4    2481.77\n",
       "Name: Item_Store_Returns, dtype: float64"
      ]
     },
     "execution_count": 159,
     "metadata": {},
     "output_type": "execute_result"
    }
   ],
   "source": [
    "y.head()"
   ]
  },
  {
   "cell_type": "code",
   "execution_count": 160,
   "metadata": {},
   "outputs": [],
   "source": [
    "#encode the categorical variables using column transformer\n",
    "from sklearn.compose import ColumnTransformer\n",
    "from sklearn.preprocessing import OneHotEncoder"
   ]
  },
  {
   "cell_type": "code",
   "execution_count": 161,
   "metadata": {},
   "outputs": [],
   "source": [
    "Item_Sugar_Content = ColumnTransformer(transformers=[(\"encoder\",OneHotEncoder(),[1])],remainder=\"passthrough\")\n",
    "X = pd.DataFrame(Item_Sugar_Content.fit_transform(X),columns = Item_Sugar_Content.get_feature_names())"
   ]
  },
  {
   "cell_type": "code",
   "execution_count": 162,
   "metadata": {},
   "outputs": [
    {
     "data": {
      "text/plain": [
       "['encoder__x0_Low Sugar',\n",
       " 'encoder__x0_Normal Sugar',\n",
       " 'encoder__x0_Ultra Low Sugar',\n",
       " 'Item_Weight',\n",
       " 'Item_Visibility',\n",
       " 'Item_Type',\n",
       " 'Item_Price',\n",
       " 'Store_Size',\n",
       " 'Store_Location_Type',\n",
       " 'Store_Type']"
      ]
     },
     "execution_count": 162,
     "metadata": {},
     "output_type": "execute_result"
    }
   ],
   "source": [
    "Item_Sugar_Content.get_feature_names()"
   ]
  },
  {
   "cell_type": "code",
   "execution_count": 163,
   "metadata": {},
   "outputs": [],
   "source": [
    "item_type = ColumnTransformer(transformers=[(\"encoder\",OneHotEncoder(),[5])],remainder=\"passthrough\")\n",
    "X = pd.DataFrame(item_type.fit_transform(X),columns = item_type.get_feature_names())"
   ]
  },
  {
   "cell_type": "code",
   "execution_count": 164,
   "metadata": {},
   "outputs": [
    {
     "data": {
      "text/plain": [
       "['encoder__x0_Baking Goods',\n",
       " 'encoder__x0_Breads',\n",
       " 'encoder__x0_Breakfast',\n",
       " 'encoder__x0_Canned',\n",
       " 'encoder__x0_Dairy',\n",
       " 'encoder__x0_Frozen Foods',\n",
       " 'encoder__x0_Fruits and Vegetables',\n",
       " 'encoder__x0_Hard Drinks',\n",
       " 'encoder__x0_Health and Hygiene',\n",
       " 'encoder__x0_Household',\n",
       " 'encoder__x0_Meat',\n",
       " 'encoder__x0_Others',\n",
       " 'encoder__x0_Seafood',\n",
       " 'encoder__x0_Snack Foods',\n",
       " 'encoder__x0_Soft Drinks',\n",
       " 'encoder__x0_Starchy Foods',\n",
       " 'encoder__x0_Low Sugar',\n",
       " 'encoder__x0_Normal Sugar',\n",
       " 'encoder__x0_Ultra Low Sugar',\n",
       " 'Item_Weight',\n",
       " 'Item_Visibility',\n",
       " 'Item_Price',\n",
       " 'Store_Size',\n",
       " 'Store_Location_Type',\n",
       " 'Store_Type']"
      ]
     },
     "execution_count": 164,
     "metadata": {},
     "output_type": "execute_result"
    }
   ],
   "source": [
    "item_type.get_feature_names()"
   ]
  },
  {
   "cell_type": "code",
   "execution_count": 165,
   "metadata": {},
   "outputs": [],
   "source": [
    "store_size = ColumnTransformer(transformers=[(\"encoder\",OneHotEncoder(),[22])],remainder=\"passthrough\")\n",
    "X = pd.DataFrame(store_size.fit_transform(X),columns = store_size.get_feature_names())"
   ]
  },
  {
   "cell_type": "code",
   "execution_count": 166,
   "metadata": {
    "scrolled": true
   },
   "outputs": [
    {
     "data": {
      "text/plain": [
       "['encoder__x0_High',\n",
       " 'encoder__x0_Medium',\n",
       " 'encoder__x0_Small',\n",
       " 'encoder__x0_Baking Goods',\n",
       " 'encoder__x0_Breads',\n",
       " 'encoder__x0_Breakfast',\n",
       " 'encoder__x0_Canned',\n",
       " 'encoder__x0_Dairy',\n",
       " 'encoder__x0_Frozen Foods',\n",
       " 'encoder__x0_Fruits and Vegetables',\n",
       " 'encoder__x0_Hard Drinks',\n",
       " 'encoder__x0_Health and Hygiene',\n",
       " 'encoder__x0_Household',\n",
       " 'encoder__x0_Meat',\n",
       " 'encoder__x0_Others',\n",
       " 'encoder__x0_Seafood',\n",
       " 'encoder__x0_Snack Foods',\n",
       " 'encoder__x0_Soft Drinks',\n",
       " 'encoder__x0_Starchy Foods',\n",
       " 'encoder__x0_Low Sugar',\n",
       " 'encoder__x0_Normal Sugar',\n",
       " 'encoder__x0_Ultra Low Sugar',\n",
       " 'Item_Weight',\n",
       " 'Item_Visibility',\n",
       " 'Item_Price',\n",
       " 'Store_Location_Type',\n",
       " 'Store_Type']"
      ]
     },
     "execution_count": 166,
     "metadata": {},
     "output_type": "execute_result"
    }
   ],
   "source": [
    "store_size.get_feature_names()"
   ]
  },
  {
   "cell_type": "code",
   "execution_count": 167,
   "metadata": {},
   "outputs": [],
   "source": [
    "Store_Location_Type = ColumnTransformer(transformers=[(\"encoder\",OneHotEncoder(),[25])],remainder=\"passthrough\")\n",
    "X = pd.DataFrame(Store_Location_Type.fit_transform(X),columns = Store_Location_Type.get_feature_names())"
   ]
  },
  {
   "cell_type": "code",
   "execution_count": 168,
   "metadata": {},
   "outputs": [
    {
     "data": {
      "text/plain": [
       "['encoder__x0_Cluster 1',\n",
       " 'encoder__x0_Cluster 2',\n",
       " 'encoder__x0_Cluster 3',\n",
       " 'encoder__x0_High',\n",
       " 'encoder__x0_Medium',\n",
       " 'encoder__x0_Small',\n",
       " 'encoder__x0_Baking Goods',\n",
       " 'encoder__x0_Breads',\n",
       " 'encoder__x0_Breakfast',\n",
       " 'encoder__x0_Canned',\n",
       " 'encoder__x0_Dairy',\n",
       " 'encoder__x0_Frozen Foods',\n",
       " 'encoder__x0_Fruits and Vegetables',\n",
       " 'encoder__x0_Hard Drinks',\n",
       " 'encoder__x0_Health and Hygiene',\n",
       " 'encoder__x0_Household',\n",
       " 'encoder__x0_Meat',\n",
       " 'encoder__x0_Others',\n",
       " 'encoder__x0_Seafood',\n",
       " 'encoder__x0_Snack Foods',\n",
       " 'encoder__x0_Soft Drinks',\n",
       " 'encoder__x0_Starchy Foods',\n",
       " 'encoder__x0_Low Sugar',\n",
       " 'encoder__x0_Normal Sugar',\n",
       " 'encoder__x0_Ultra Low Sugar',\n",
       " 'Item_Weight',\n",
       " 'Item_Visibility',\n",
       " 'Item_Price',\n",
       " 'Store_Type']"
      ]
     },
     "execution_count": 168,
     "metadata": {},
     "output_type": "execute_result"
    }
   ],
   "source": [
    "Store_Location_Type.get_feature_names()"
   ]
  },
  {
   "cell_type": "code",
   "execution_count": 169,
   "metadata": {},
   "outputs": [],
   "source": [
    "Store_Type = ColumnTransformer(transformers=[(\"encoder\",OneHotEncoder(),[28])],remainder=\"passthrough\")\n",
    "X = pd.DataFrame(Store_Type.fit_transform(X),columns = Store_Type.get_feature_names())"
   ]
  },
  {
   "cell_type": "code",
   "execution_count": 170,
   "metadata": {
    "scrolled": true
   },
   "outputs": [
    {
     "data": {
      "text/plain": [
       "['encoder__x0_Grocery Store',\n",
       " 'encoder__x0_Supermarket Type1',\n",
       " 'encoder__x0_Supermarket Type2',\n",
       " 'encoder__x0_Supermarket Type3',\n",
       " 'encoder__x0_Cluster 1',\n",
       " 'encoder__x0_Cluster 2',\n",
       " 'encoder__x0_Cluster 3',\n",
       " 'encoder__x0_High',\n",
       " 'encoder__x0_Medium',\n",
       " 'encoder__x0_Small',\n",
       " 'encoder__x0_Baking Goods',\n",
       " 'encoder__x0_Breads',\n",
       " 'encoder__x0_Breakfast',\n",
       " 'encoder__x0_Canned',\n",
       " 'encoder__x0_Dairy',\n",
       " 'encoder__x0_Frozen Foods',\n",
       " 'encoder__x0_Fruits and Vegetables',\n",
       " 'encoder__x0_Hard Drinks',\n",
       " 'encoder__x0_Health and Hygiene',\n",
       " 'encoder__x0_Household',\n",
       " 'encoder__x0_Meat',\n",
       " 'encoder__x0_Others',\n",
       " 'encoder__x0_Seafood',\n",
       " 'encoder__x0_Snack Foods',\n",
       " 'encoder__x0_Soft Drinks',\n",
       " 'encoder__x0_Starchy Foods',\n",
       " 'encoder__x0_Low Sugar',\n",
       " 'encoder__x0_Normal Sugar',\n",
       " 'encoder__x0_Ultra Low Sugar',\n",
       " 'Item_Weight',\n",
       " 'Item_Visibility',\n",
       " 'Item_Price']"
      ]
     },
     "execution_count": 170,
     "metadata": {},
     "output_type": "execute_result"
    }
   ],
   "source": [
    "Store_Type.get_feature_names()"
   ]
  },
  {
   "cell_type": "code",
   "execution_count": 171,
   "metadata": {},
   "outputs": [
    {
     "data": {
      "text/html": [
       "<div>\n",
       "<style scoped>\n",
       "    .dataframe tbody tr th:only-of-type {\n",
       "        vertical-align: middle;\n",
       "    }\n",
       "\n",
       "    .dataframe tbody tr th {\n",
       "        vertical-align: top;\n",
       "    }\n",
       "\n",
       "    .dataframe thead th {\n",
       "        text-align: right;\n",
       "    }\n",
       "</style>\n",
       "<table border=\"1\" class=\"dataframe\">\n",
       "  <thead>\n",
       "    <tr style=\"text-align: right;\">\n",
       "      <th></th>\n",
       "      <th>encoder__x0_Grocery Store</th>\n",
       "      <th>encoder__x0_Supermarket Type1</th>\n",
       "      <th>encoder__x0_Supermarket Type2</th>\n",
       "      <th>encoder__x0_Supermarket Type3</th>\n",
       "      <th>encoder__x0_Cluster 1</th>\n",
       "      <th>encoder__x0_Cluster 2</th>\n",
       "      <th>encoder__x0_Cluster 3</th>\n",
       "      <th>encoder__x0_High</th>\n",
       "      <th>encoder__x0_Medium</th>\n",
       "      <th>encoder__x0_Small</th>\n",
       "      <th>...</th>\n",
       "      <th>encoder__x0_Seafood</th>\n",
       "      <th>encoder__x0_Snack Foods</th>\n",
       "      <th>encoder__x0_Soft Drinks</th>\n",
       "      <th>encoder__x0_Starchy Foods</th>\n",
       "      <th>encoder__x0_Low Sugar</th>\n",
       "      <th>encoder__x0_Normal Sugar</th>\n",
       "      <th>encoder__x0_Ultra Low Sugar</th>\n",
       "      <th>Item_Weight</th>\n",
       "      <th>Item_Visibility</th>\n",
       "      <th>Item_Price</th>\n",
       "    </tr>\n",
       "  </thead>\n",
       "  <tbody>\n",
       "    <tr>\n",
       "      <td>0</td>\n",
       "      <td>1</td>\n",
       "      <td>0</td>\n",
       "      <td>0</td>\n",
       "      <td>0</td>\n",
       "      <td>0</td>\n",
       "      <td>0</td>\n",
       "      <td>1</td>\n",
       "      <td>0</td>\n",
       "      <td>1</td>\n",
       "      <td>0</td>\n",
       "      <td>...</td>\n",
       "      <td>0</td>\n",
       "      <td>0</td>\n",
       "      <td>1</td>\n",
       "      <td>0</td>\n",
       "      <td>1</td>\n",
       "      <td>0</td>\n",
       "      <td>0</td>\n",
       "      <td>11.6</td>\n",
       "      <td>0.068535</td>\n",
       "      <td>357.54</td>\n",
       "    </tr>\n",
       "    <tr>\n",
       "      <td>1</td>\n",
       "      <td>0</td>\n",
       "      <td>1</td>\n",
       "      <td>0</td>\n",
       "      <td>0</td>\n",
       "      <td>0</td>\n",
       "      <td>0</td>\n",
       "      <td>1</td>\n",
       "      <td>1</td>\n",
       "      <td>0</td>\n",
       "      <td>0</td>\n",
       "      <td>...</td>\n",
       "      <td>0</td>\n",
       "      <td>0</td>\n",
       "      <td>1</td>\n",
       "      <td>0</td>\n",
       "      <td>1</td>\n",
       "      <td>0</td>\n",
       "      <td>0</td>\n",
       "      <td>11.6</td>\n",
       "      <td>0.0409118</td>\n",
       "      <td>355.79</td>\n",
       "    </tr>\n",
       "    <tr>\n",
       "      <td>2</td>\n",
       "      <td>0</td>\n",
       "      <td>1</td>\n",
       "      <td>0</td>\n",
       "      <td>0</td>\n",
       "      <td>0</td>\n",
       "      <td>1</td>\n",
       "      <td>0</td>\n",
       "      <td>0</td>\n",
       "      <td>1</td>\n",
       "      <td>0</td>\n",
       "      <td>...</td>\n",
       "      <td>0</td>\n",
       "      <td>0</td>\n",
       "      <td>1</td>\n",
       "      <td>0</td>\n",
       "      <td>1</td>\n",
       "      <td>0</td>\n",
       "      <td>0</td>\n",
       "      <td>11.6</td>\n",
       "      <td>0.0411775</td>\n",
       "      <td>350.79</td>\n",
       "    </tr>\n",
       "    <tr>\n",
       "      <td>3</td>\n",
       "      <td>0</td>\n",
       "      <td>0</td>\n",
       "      <td>1</td>\n",
       "      <td>0</td>\n",
       "      <td>0</td>\n",
       "      <td>0</td>\n",
       "      <td>1</td>\n",
       "      <td>0</td>\n",
       "      <td>1</td>\n",
       "      <td>0</td>\n",
       "      <td>...</td>\n",
       "      <td>0</td>\n",
       "      <td>0</td>\n",
       "      <td>1</td>\n",
       "      <td>0</td>\n",
       "      <td>1</td>\n",
       "      <td>0</td>\n",
       "      <td>0</td>\n",
       "      <td>11.6</td>\n",
       "      <td>0.0411127</td>\n",
       "      <td>355.04</td>\n",
       "    </tr>\n",
       "    <tr>\n",
       "      <td>4</td>\n",
       "      <td>0</td>\n",
       "      <td>1</td>\n",
       "      <td>0</td>\n",
       "      <td>0</td>\n",
       "      <td>0</td>\n",
       "      <td>1</td>\n",
       "      <td>0</td>\n",
       "      <td>0</td>\n",
       "      <td>0</td>\n",
       "      <td>1</td>\n",
       "      <td>...</td>\n",
       "      <td>0</td>\n",
       "      <td>0</td>\n",
       "      <td>1</td>\n",
       "      <td>0</td>\n",
       "      <td>0</td>\n",
       "      <td>0</td>\n",
       "      <td>1</td>\n",
       "      <td>11.6</td>\n",
       "      <td>0</td>\n",
       "      <td>354.79</td>\n",
       "    </tr>\n",
       "  </tbody>\n",
       "</table>\n",
       "<p>5 rows × 32 columns</p>\n",
       "</div>"
      ],
      "text/plain": [
       "  encoder__x0_Grocery Store encoder__x0_Supermarket Type1  \\\n",
       "0                         1                             0   \n",
       "1                         0                             1   \n",
       "2                         0                             1   \n",
       "3                         0                             0   \n",
       "4                         0                             1   \n",
       "\n",
       "  encoder__x0_Supermarket Type2 encoder__x0_Supermarket Type3  \\\n",
       "0                             0                             0   \n",
       "1                             0                             0   \n",
       "2                             0                             0   \n",
       "3                             1                             0   \n",
       "4                             0                             0   \n",
       "\n",
       "  encoder__x0_Cluster 1 encoder__x0_Cluster 2 encoder__x0_Cluster 3  \\\n",
       "0                     0                     0                     1   \n",
       "1                     0                     0                     1   \n",
       "2                     0                     1                     0   \n",
       "3                     0                     0                     1   \n",
       "4                     0                     1                     0   \n",
       "\n",
       "  encoder__x0_High encoder__x0_Medium encoder__x0_Small  ...  \\\n",
       "0                0                  1                 0  ...   \n",
       "1                1                  0                 0  ...   \n",
       "2                0                  1                 0  ...   \n",
       "3                0                  1                 0  ...   \n",
       "4                0                  0                 1  ...   \n",
       "\n",
       "  encoder__x0_Seafood encoder__x0_Snack Foods encoder__x0_Soft Drinks  \\\n",
       "0                   0                       0                       1   \n",
       "1                   0                       0                       1   \n",
       "2                   0                       0                       1   \n",
       "3                   0                       0                       1   \n",
       "4                   0                       0                       1   \n",
       "\n",
       "  encoder__x0_Starchy Foods encoder__x0_Low Sugar encoder__x0_Normal Sugar  \\\n",
       "0                         0                     1                        0   \n",
       "1                         0                     1                        0   \n",
       "2                         0                     1                        0   \n",
       "3                         0                     1                        0   \n",
       "4                         0                     0                        0   \n",
       "\n",
       "  encoder__x0_Ultra Low Sugar Item_Weight Item_Visibility Item_Price  \n",
       "0                           0        11.6        0.068535     357.54  \n",
       "1                           0        11.6       0.0409118     355.79  \n",
       "2                           0        11.6       0.0411775     350.79  \n",
       "3                           0        11.6       0.0411127     355.04  \n",
       "4                           1        11.6               0     354.79  \n",
       "\n",
       "[5 rows x 32 columns]"
      ]
     },
     "execution_count": 171,
     "metadata": {},
     "output_type": "execute_result"
    }
   ],
   "source": [
    "X.head()"
   ]
  },
  {
   "cell_type": "code",
   "execution_count": 172,
   "metadata": {},
   "outputs": [],
   "source": [
    "import numpy as np\n",
    "from sklearn.preprocessing import MinMaxScaler\n",
    "from sklearn.model_selection import train_test_split"
   ]
  },
  {
   "cell_type": "markdown",
   "metadata": {},
   "source": [
    "# split data so we can scale the numerical variables"
   ]
  },
  {
   "cell_type": "code",
   "execution_count": 173,
   "metadata": {},
   "outputs": [],
   "source": [
    "xx = X.iloc[:,:29]"
   ]
  },
  {
   "cell_type": "code",
   "execution_count": 174,
   "metadata": {
    "scrolled": true
   },
   "outputs": [
    {
     "data": {
      "text/html": [
       "<div>\n",
       "<style scoped>\n",
       "    .dataframe tbody tr th:only-of-type {\n",
       "        vertical-align: middle;\n",
       "    }\n",
       "\n",
       "    .dataframe tbody tr th {\n",
       "        vertical-align: top;\n",
       "    }\n",
       "\n",
       "    .dataframe thead th {\n",
       "        text-align: right;\n",
       "    }\n",
       "</style>\n",
       "<table border=\"1\" class=\"dataframe\">\n",
       "  <thead>\n",
       "    <tr style=\"text-align: right;\">\n",
       "      <th></th>\n",
       "      <th>encoder__x0_Grocery Store</th>\n",
       "      <th>encoder__x0_Supermarket Type1</th>\n",
       "      <th>encoder__x0_Supermarket Type2</th>\n",
       "      <th>encoder__x0_Supermarket Type3</th>\n",
       "      <th>encoder__x0_Cluster 1</th>\n",
       "      <th>encoder__x0_Cluster 2</th>\n",
       "      <th>encoder__x0_Cluster 3</th>\n",
       "      <th>encoder__x0_High</th>\n",
       "      <th>encoder__x0_Medium</th>\n",
       "      <th>encoder__x0_Small</th>\n",
       "      <th>...</th>\n",
       "      <th>encoder__x0_Household</th>\n",
       "      <th>encoder__x0_Meat</th>\n",
       "      <th>encoder__x0_Others</th>\n",
       "      <th>encoder__x0_Seafood</th>\n",
       "      <th>encoder__x0_Snack Foods</th>\n",
       "      <th>encoder__x0_Soft Drinks</th>\n",
       "      <th>encoder__x0_Starchy Foods</th>\n",
       "      <th>encoder__x0_Low Sugar</th>\n",
       "      <th>encoder__x0_Normal Sugar</th>\n",
       "      <th>encoder__x0_Ultra Low Sugar</th>\n",
       "    </tr>\n",
       "  </thead>\n",
       "  <tbody>\n",
       "    <tr>\n",
       "      <td>0</td>\n",
       "      <td>1</td>\n",
       "      <td>0</td>\n",
       "      <td>0</td>\n",
       "      <td>0</td>\n",
       "      <td>0</td>\n",
       "      <td>0</td>\n",
       "      <td>1</td>\n",
       "      <td>0</td>\n",
       "      <td>1</td>\n",
       "      <td>0</td>\n",
       "      <td>...</td>\n",
       "      <td>0</td>\n",
       "      <td>0</td>\n",
       "      <td>0</td>\n",
       "      <td>0</td>\n",
       "      <td>0</td>\n",
       "      <td>1</td>\n",
       "      <td>0</td>\n",
       "      <td>1</td>\n",
       "      <td>0</td>\n",
       "      <td>0</td>\n",
       "    </tr>\n",
       "    <tr>\n",
       "      <td>1</td>\n",
       "      <td>0</td>\n",
       "      <td>1</td>\n",
       "      <td>0</td>\n",
       "      <td>0</td>\n",
       "      <td>0</td>\n",
       "      <td>0</td>\n",
       "      <td>1</td>\n",
       "      <td>1</td>\n",
       "      <td>0</td>\n",
       "      <td>0</td>\n",
       "      <td>...</td>\n",
       "      <td>0</td>\n",
       "      <td>0</td>\n",
       "      <td>0</td>\n",
       "      <td>0</td>\n",
       "      <td>0</td>\n",
       "      <td>1</td>\n",
       "      <td>0</td>\n",
       "      <td>1</td>\n",
       "      <td>0</td>\n",
       "      <td>0</td>\n",
       "    </tr>\n",
       "    <tr>\n",
       "      <td>2</td>\n",
       "      <td>0</td>\n",
       "      <td>1</td>\n",
       "      <td>0</td>\n",
       "      <td>0</td>\n",
       "      <td>0</td>\n",
       "      <td>1</td>\n",
       "      <td>0</td>\n",
       "      <td>0</td>\n",
       "      <td>1</td>\n",
       "      <td>0</td>\n",
       "      <td>...</td>\n",
       "      <td>0</td>\n",
       "      <td>0</td>\n",
       "      <td>0</td>\n",
       "      <td>0</td>\n",
       "      <td>0</td>\n",
       "      <td>1</td>\n",
       "      <td>0</td>\n",
       "      <td>1</td>\n",
       "      <td>0</td>\n",
       "      <td>0</td>\n",
       "    </tr>\n",
       "    <tr>\n",
       "      <td>3</td>\n",
       "      <td>0</td>\n",
       "      <td>0</td>\n",
       "      <td>1</td>\n",
       "      <td>0</td>\n",
       "      <td>0</td>\n",
       "      <td>0</td>\n",
       "      <td>1</td>\n",
       "      <td>0</td>\n",
       "      <td>1</td>\n",
       "      <td>0</td>\n",
       "      <td>...</td>\n",
       "      <td>0</td>\n",
       "      <td>0</td>\n",
       "      <td>0</td>\n",
       "      <td>0</td>\n",
       "      <td>0</td>\n",
       "      <td>1</td>\n",
       "      <td>0</td>\n",
       "      <td>1</td>\n",
       "      <td>0</td>\n",
       "      <td>0</td>\n",
       "    </tr>\n",
       "    <tr>\n",
       "      <td>4</td>\n",
       "      <td>0</td>\n",
       "      <td>1</td>\n",
       "      <td>0</td>\n",
       "      <td>0</td>\n",
       "      <td>0</td>\n",
       "      <td>1</td>\n",
       "      <td>0</td>\n",
       "      <td>0</td>\n",
       "      <td>0</td>\n",
       "      <td>1</td>\n",
       "      <td>...</td>\n",
       "      <td>0</td>\n",
       "      <td>0</td>\n",
       "      <td>0</td>\n",
       "      <td>0</td>\n",
       "      <td>0</td>\n",
       "      <td>1</td>\n",
       "      <td>0</td>\n",
       "      <td>0</td>\n",
       "      <td>0</td>\n",
       "      <td>1</td>\n",
       "    </tr>\n",
       "  </tbody>\n",
       "</table>\n",
       "<p>5 rows × 29 columns</p>\n",
       "</div>"
      ],
      "text/plain": [
       "  encoder__x0_Grocery Store encoder__x0_Supermarket Type1  \\\n",
       "0                         1                             0   \n",
       "1                         0                             1   \n",
       "2                         0                             1   \n",
       "3                         0                             0   \n",
       "4                         0                             1   \n",
       "\n",
       "  encoder__x0_Supermarket Type2 encoder__x0_Supermarket Type3  \\\n",
       "0                             0                             0   \n",
       "1                             0                             0   \n",
       "2                             0                             0   \n",
       "3                             1                             0   \n",
       "4                             0                             0   \n",
       "\n",
       "  encoder__x0_Cluster 1 encoder__x0_Cluster 2 encoder__x0_Cluster 3  \\\n",
       "0                     0                     0                     1   \n",
       "1                     0                     0                     1   \n",
       "2                     0                     1                     0   \n",
       "3                     0                     0                     1   \n",
       "4                     0                     1                     0   \n",
       "\n",
       "  encoder__x0_High encoder__x0_Medium encoder__x0_Small  ...  \\\n",
       "0                0                  1                 0  ...   \n",
       "1                1                  0                 0  ...   \n",
       "2                0                  1                 0  ...   \n",
       "3                0                  1                 0  ...   \n",
       "4                0                  0                 1  ...   \n",
       "\n",
       "  encoder__x0_Household encoder__x0_Meat encoder__x0_Others  \\\n",
       "0                     0                0                  0   \n",
       "1                     0                0                  0   \n",
       "2                     0                0                  0   \n",
       "3                     0                0                  0   \n",
       "4                     0                0                  0   \n",
       "\n",
       "  encoder__x0_Seafood encoder__x0_Snack Foods encoder__x0_Soft Drinks  \\\n",
       "0                   0                       0                       1   \n",
       "1                   0                       0                       1   \n",
       "2                   0                       0                       1   \n",
       "3                   0                       0                       1   \n",
       "4                   0                       0                       1   \n",
       "\n",
       "  encoder__x0_Starchy Foods encoder__x0_Low Sugar encoder__x0_Normal Sugar  \\\n",
       "0                         0                     1                        0   \n",
       "1                         0                     1                        0   \n",
       "2                         0                     1                        0   \n",
       "3                         0                     1                        0   \n",
       "4                         0                     0                        0   \n",
       "\n",
       "  encoder__x0_Ultra Low Sugar  \n",
       "0                           0  \n",
       "1                           0  \n",
       "2                           0  \n",
       "3                           0  \n",
       "4                           1  \n",
       "\n",
       "[5 rows x 29 columns]"
      ]
     },
     "execution_count": 174,
     "metadata": {},
     "output_type": "execute_result"
    }
   ],
   "source": [
    "xx.head()"
   ]
  },
  {
   "cell_type": "code",
   "execution_count": 175,
   "metadata": {},
   "outputs": [],
   "source": [
    "xy = X.iloc[:,29:]"
   ]
  },
  {
   "cell_type": "code",
   "execution_count": 176,
   "metadata": {},
   "outputs": [
    {
     "data": {
      "text/html": [
       "<div>\n",
       "<style scoped>\n",
       "    .dataframe tbody tr th:only-of-type {\n",
       "        vertical-align: middle;\n",
       "    }\n",
       "\n",
       "    .dataframe tbody tr th {\n",
       "        vertical-align: top;\n",
       "    }\n",
       "\n",
       "    .dataframe thead th {\n",
       "        text-align: right;\n",
       "    }\n",
       "</style>\n",
       "<table border=\"1\" class=\"dataframe\">\n",
       "  <thead>\n",
       "    <tr style=\"text-align: right;\">\n",
       "      <th></th>\n",
       "      <th>Item_Weight</th>\n",
       "      <th>Item_Visibility</th>\n",
       "      <th>Item_Price</th>\n",
       "    </tr>\n",
       "  </thead>\n",
       "  <tbody>\n",
       "    <tr>\n",
       "      <td>0</td>\n",
       "      <td>11.6</td>\n",
       "      <td>0.068535</td>\n",
       "      <td>357.54</td>\n",
       "    </tr>\n",
       "    <tr>\n",
       "      <td>1</td>\n",
       "      <td>11.6</td>\n",
       "      <td>0.0409118</td>\n",
       "      <td>355.79</td>\n",
       "    </tr>\n",
       "    <tr>\n",
       "      <td>2</td>\n",
       "      <td>11.6</td>\n",
       "      <td>0.0411775</td>\n",
       "      <td>350.79</td>\n",
       "    </tr>\n",
       "    <tr>\n",
       "      <td>3</td>\n",
       "      <td>11.6</td>\n",
       "      <td>0.0411127</td>\n",
       "      <td>355.04</td>\n",
       "    </tr>\n",
       "    <tr>\n",
       "      <td>4</td>\n",
       "      <td>11.6</td>\n",
       "      <td>0</td>\n",
       "      <td>354.79</td>\n",
       "    </tr>\n",
       "    <tr>\n",
       "      <td>...</td>\n",
       "      <td>...</td>\n",
       "      <td>...</td>\n",
       "      <td>...</td>\n",
       "    </tr>\n",
       "    <tr>\n",
       "      <td>4985</td>\n",
       "      <td>12.15</td>\n",
       "      <td>0.145952</td>\n",
       "      <td>402.39</td>\n",
       "    </tr>\n",
       "    <tr>\n",
       "      <td>4986</td>\n",
       "      <td>12.15</td>\n",
       "      <td>0.0829557</td>\n",
       "      <td>410.14</td>\n",
       "    </tr>\n",
       "    <tr>\n",
       "      <td>4987</td>\n",
       "      <td>14.65</td>\n",
       "      <td>0.0835284</td>\n",
       "      <td>406.14</td>\n",
       "    </tr>\n",
       "    <tr>\n",
       "      <td>4988</td>\n",
       "      <td>14.65</td>\n",
       "      <td>0.0833594</td>\n",
       "      <td>404.89</td>\n",
       "    </tr>\n",
       "    <tr>\n",
       "      <td>4989</td>\n",
       "      <td>14.65</td>\n",
       "      <td>0.083489</td>\n",
       "      <td>403.39</td>\n",
       "    </tr>\n",
       "  </tbody>\n",
       "</table>\n",
       "<p>4990 rows × 3 columns</p>\n",
       "</div>"
      ],
      "text/plain": [
       "     Item_Weight Item_Visibility Item_Price\n",
       "0           11.6        0.068535     357.54\n",
       "1           11.6       0.0409118     355.79\n",
       "2           11.6       0.0411775     350.79\n",
       "3           11.6       0.0411127     355.04\n",
       "4           11.6               0     354.79\n",
       "...          ...             ...        ...\n",
       "4985       12.15        0.145952     402.39\n",
       "4986       12.15       0.0829557     410.14\n",
       "4987       14.65       0.0835284     406.14\n",
       "4988       14.65       0.0833594     404.89\n",
       "4989       14.65        0.083489     403.39\n",
       "\n",
       "[4990 rows x 3 columns]"
      ]
     },
     "execution_count": 176,
     "metadata": {},
     "output_type": "execute_result"
    }
   ],
   "source": [
    "xy"
   ]
  },
  {
   "cell_type": "code",
   "execution_count": 177,
   "metadata": {},
   "outputs": [],
   "source": [
    "scaler = MinMaxScaler()\n",
    "normalised_X2 = pd.DataFrame(scaler.fit_transform(xy),columns =xy.columns)\n",
    "X = pd.concat([xx,normalised_X2],axis = 1)                                   "
   ]
  },
  {
   "cell_type": "code",
   "execution_count": 178,
   "metadata": {},
   "outputs": [],
   "source": [
    "#concatenate the two dataframes\n",
    "X = pd.concat([xx,normalised_X2],axis = 1)"
   ]
  },
  {
   "cell_type": "markdown",
   "metadata": {},
   "source": [
    "# split the data into train and test sets"
   ]
  },
  {
   "cell_type": "code",
   "execution_count": 179,
   "metadata": {
    "scrolled": true
   },
   "outputs": [],
   "source": [
    "X_train, X_test,y_train,y_test = train_test_split(X,y,test_size = 0.2,random_state = 42)"
   ]
  },
  {
   "cell_type": "code",
   "execution_count": 180,
   "metadata": {},
   "outputs": [
    {
     "data": {
      "text/plain": [
       "(3992, 32)"
      ]
     },
     "execution_count": 180,
     "metadata": {},
     "output_type": "execute_result"
    }
   ],
   "source": [
    "X_train.shape"
   ]
  },
  {
   "cell_type": "code",
   "execution_count": 181,
   "metadata": {},
   "outputs": [
    {
     "data": {
      "text/plain": [
       "(998, 32)"
      ]
     },
     "execution_count": 181,
     "metadata": {},
     "output_type": "execute_result"
    }
   ],
   "source": [
    "X_test.shape"
   ]
  },
  {
   "cell_type": "code",
   "execution_count": 182,
   "metadata": {},
   "outputs": [
    {
     "data": {
      "text/plain": [
       "(3992,)"
      ]
     },
     "execution_count": 182,
     "metadata": {},
     "output_type": "execute_result"
    }
   ],
   "source": [
    "y_train.shape"
   ]
  },
  {
   "cell_type": "code",
   "execution_count": 183,
   "metadata": {},
   "outputs": [
    {
     "data": {
      "text/plain": [
       "(998,)"
      ]
     },
     "execution_count": 183,
     "metadata": {},
     "output_type": "execute_result"
    }
   ],
   "source": [
    "y_test.shape"
   ]
  },
  {
   "cell_type": "code",
   "execution_count": 184,
   "metadata": {},
   "outputs": [],
   "source": [
    "# using linear regression"
   ]
  },
  {
   "cell_type": "code",
   "execution_count": 185,
   "metadata": {},
   "outputs": [],
   "source": [
    "from sklearn.linear_model import LinearRegression"
   ]
  },
  {
   "cell_type": "code",
   "execution_count": 186,
   "metadata": {},
   "outputs": [],
   "source": [
    "reg = LinearRegression(n_jobs=4,copy_X=2)#instantiate a model object"
   ]
  },
  {
   "cell_type": "code",
   "execution_count": 187,
   "metadata": {},
   "outputs": [
    {
     "data": {
      "text/plain": [
       "LinearRegression(copy_X=2, n_jobs=4)"
      ]
     },
     "execution_count": 187,
     "metadata": {},
     "output_type": "execute_result"
    }
   ],
   "source": [
    "reg.fit(X,y)#fit the model"
   ]
  },
  {
   "cell_type": "code",
   "execution_count": 188,
   "metadata": {},
   "outputs": [
    {
     "data": {
      "text/plain": [
       "0.5368762765838893"
      ]
     },
     "execution_count": 188,
     "metadata": {},
     "output_type": "execute_result"
    }
   ],
   "source": [
    "reg.score(X_test,y_test)#check accuracy of the model"
   ]
  },
  {
   "cell_type": "code",
   "execution_count": 189,
   "metadata": {},
   "outputs": [],
   "source": [
    " predict = reg.predict(X_test)#predict the model"
   ]
  },
  {
   "cell_type": "markdown",
   "metadata": {},
   "source": [
    "# root mean squared error"
   ]
  },
  {
   "cell_type": "code",
   "execution_count": 190,
   "metadata": {},
   "outputs": [],
   "source": [
    "from sklearn.metrics import mean_squared_error"
   ]
  },
  {
   "cell_type": "code",
   "execution_count": 191,
   "metadata": {},
   "outputs": [
    {
     "data": {
      "text/plain": [
       "2986.342"
      ]
     },
     "execution_count": 191,
     "metadata": {},
     "output_type": "execute_result"
    }
   ],
   "source": [
    "reg_rmse=np.sqrt(mean_squared_error(y_test,predict))\n",
    "round(reg_rmse,3)"
   ]
  },
  {
   "cell_type": "markdown",
   "metadata": {},
   "source": [
    "# run all the above for the test data set "
   ]
  },
  {
   "cell_type": "code",
   "execution_count": 215,
   "metadata": {},
   "outputs": [
    {
     "data": {
      "text/html": [
       "<div>\n",
       "<style scoped>\n",
       "    .dataframe tbody tr th:only-of-type {\n",
       "        vertical-align: middle;\n",
       "    }\n",
       "\n",
       "    .dataframe tbody tr th {\n",
       "        vertical-align: top;\n",
       "    }\n",
       "\n",
       "    .dataframe thead th {\n",
       "        text-align: right;\n",
       "    }\n",
       "</style>\n",
       "<table border=\"1\" class=\"dataframe\">\n",
       "  <thead>\n",
       "    <tr style=\"text-align: right;\">\n",
       "      <th></th>\n",
       "      <th>Item_ID</th>\n",
       "      <th>Store_ID</th>\n",
       "      <th>Item_Store_ID</th>\n",
       "      <th>Item_Weight</th>\n",
       "      <th>Item_Sugar_Content</th>\n",
       "      <th>Item_Visibility</th>\n",
       "      <th>Item_Type</th>\n",
       "      <th>Item_Price</th>\n",
       "      <th>Store_Start_Year</th>\n",
       "      <th>Store_Size</th>\n",
       "      <th>Store_Location_Type</th>\n",
       "      <th>Store_Type</th>\n",
       "    </tr>\n",
       "  </thead>\n",
       "  <tbody>\n",
       "    <tr>\n",
       "      <td>0</td>\n",
       "      <td>DRA59</td>\n",
       "      <td>BABATUNJI010</td>\n",
       "      <td>DRA59_BABATUNJI010</td>\n",
       "      <td>8.270</td>\n",
       "      <td>Normal Sugar</td>\n",
       "      <td>0.214125</td>\n",
       "      <td>Soft Drinks</td>\n",
       "      <td>459.98</td>\n",
       "      <td>2005</td>\n",
       "      <td>NaN</td>\n",
       "      <td>Cluster 3</td>\n",
       "      <td>Grocery Store</td>\n",
       "    </tr>\n",
       "    <tr>\n",
       "      <td>1</td>\n",
       "      <td>DRA59</td>\n",
       "      <td>BABATUNJI013</td>\n",
       "      <td>DRA59_BABATUNJI013</td>\n",
       "      <td>8.270</td>\n",
       "      <td>Normal Sugar</td>\n",
       "      <td>0.127821</td>\n",
       "      <td>Soft Drinks</td>\n",
       "      <td>464.98</td>\n",
       "      <td>1994</td>\n",
       "      <td>High</td>\n",
       "      <td>Cluster 3</td>\n",
       "      <td>Supermarket Type1</td>\n",
       "    </tr>\n",
       "    <tr>\n",
       "      <td>2</td>\n",
       "      <td>DRB01</td>\n",
       "      <td>BABATUNJI013</td>\n",
       "      <td>DRB01_BABATUNJI013</td>\n",
       "      <td>7.390</td>\n",
       "      <td>Low Sugar</td>\n",
       "      <td>0.082171</td>\n",
       "      <td>Soft Drinks</td>\n",
       "      <td>477.38</td>\n",
       "      <td>1994</td>\n",
       "      <td>High</td>\n",
       "      <td>Cluster 3</td>\n",
       "      <td>Supermarket Type1</td>\n",
       "    </tr>\n",
       "    <tr>\n",
       "      <td>3</td>\n",
       "      <td>DRB13</td>\n",
       "      <td>BABATUNJI010</td>\n",
       "      <td>DRB13_BABATUNJI010</td>\n",
       "      <td>6.115</td>\n",
       "      <td>Normal Sugar</td>\n",
       "      <td>0.011791</td>\n",
       "      <td>Soft Drinks</td>\n",
       "      <td>472.63</td>\n",
       "      <td>2005</td>\n",
       "      <td>NaN</td>\n",
       "      <td>Cluster 3</td>\n",
       "      <td>Grocery Store</td>\n",
       "    </tr>\n",
       "    <tr>\n",
       "      <td>4</td>\n",
       "      <td>DRB13</td>\n",
       "      <td>BABATUNJI013</td>\n",
       "      <td>DRB13_BABATUNJI013</td>\n",
       "      <td>6.115</td>\n",
       "      <td>Normal Sugar</td>\n",
       "      <td>0.007038</td>\n",
       "      <td>Soft Drinks</td>\n",
       "      <td>473.13</td>\n",
       "      <td>1994</td>\n",
       "      <td>High</td>\n",
       "      <td>Cluster 3</td>\n",
       "      <td>Supermarket Type1</td>\n",
       "    </tr>\n",
       "  </tbody>\n",
       "</table>\n",
       "</div>"
      ],
      "text/plain": [
       "  Item_ID      Store_ID       Item_Store_ID  Item_Weight Item_Sugar_Content  \\\n",
       "0   DRA59  BABATUNJI010  DRA59_BABATUNJI010        8.270       Normal Sugar   \n",
       "1   DRA59  BABATUNJI013  DRA59_BABATUNJI013        8.270       Normal Sugar   \n",
       "2   DRB01  BABATUNJI013  DRB01_BABATUNJI013        7.390          Low Sugar   \n",
       "3   DRB13  BABATUNJI010  DRB13_BABATUNJI010        6.115       Normal Sugar   \n",
       "4   DRB13  BABATUNJI013  DRB13_BABATUNJI013        6.115       Normal Sugar   \n",
       "\n",
       "   Item_Visibility    Item_Type  Item_Price  Store_Start_Year Store_Size  \\\n",
       "0         0.214125  Soft Drinks      459.98              2005        NaN   \n",
       "1         0.127821  Soft Drinks      464.98              1994       High   \n",
       "2         0.082171  Soft Drinks      477.38              1994       High   \n",
       "3         0.011791  Soft Drinks      472.63              2005        NaN   \n",
       "4         0.007038  Soft Drinks      473.13              1994       High   \n",
       "\n",
       "  Store_Location_Type         Store_Type  \n",
       "0           Cluster 3      Grocery Store  \n",
       "1           Cluster 3  Supermarket Type1  \n",
       "2           Cluster 3  Supermarket Type1  \n",
       "3           Cluster 3      Grocery Store  \n",
       "4           Cluster 3  Supermarket Type1  "
      ]
     },
     "execution_count": 215,
     "metadata": {},
     "output_type": "execute_result"
    }
   ],
   "source": [
    "test = pd.read_csv(\"test(2).csv\")\n",
    "test.head()"
   ]
  },
  {
   "cell_type": "code",
   "execution_count": 193,
   "metadata": {},
   "outputs": [
    {
     "data": {
      "text/plain": [
       "Item_ID                  0\n",
       "Store_ID                 0\n",
       "Item_Store_ID            0\n",
       "Item_Weight            661\n",
       "Item_Sugar_Content       0\n",
       "Item_Visibility          0\n",
       "Item_Type                0\n",
       "Item_Price               0\n",
       "Store_Start_Year         0\n",
       "Store_Size             959\n",
       "Store_Location_Type      0\n",
       "Store_Type               0\n",
       "dtype: int64"
      ]
     },
     "execution_count": 193,
     "metadata": {},
     "output_type": "execute_result"
    }
   ],
   "source": [
    "test.isnull().sum()"
   ]
  },
  {
   "cell_type": "code",
   "execution_count": 194,
   "metadata": {},
   "outputs": [
    {
     "data": {
      "text/plain": [
       "0    15.85\n",
       "dtype: float64"
      ]
     },
     "execution_count": 194,
     "metadata": {},
     "output_type": "execute_result"
    }
   ],
   "source": [
    "test.Item_Weight.mode()"
   ]
  },
  {
   "cell_type": "code",
   "execution_count": 195,
   "metadata": {},
   "outputs": [
    {
     "data": {
      "text/plain": [
       "0    Medium\n",
       "dtype: object"
      ]
     },
     "execution_count": 195,
     "metadata": {},
     "output_type": "execute_result"
    }
   ],
   "source": [
    "test.Store_Size.mode()"
   ]
  },
  {
   "cell_type": "code",
   "execution_count": 196,
   "metadata": {},
   "outputs": [],
   "source": [
    "#weight\n",
    "import numpy as np\n",
    "from sklearn.impute import SimpleImputer\n",
    "weigh_impute = SimpleImputer(missing_values=np.nan,strategy=\"most_frequent\")\n",
    "test[[\"Item_Weight\"]] = weigh_impute.fit_transform(test[[\"Item_Weight\"]]) #fills with the mode"
   ]
  },
  {
   "cell_type": "code",
   "execution_count": 197,
   "metadata": {},
   "outputs": [],
   "source": [
    "from sklearn.impute import SimpleImputer\n",
    "size_impute = SimpleImputer(missing_values=np.nan,strategy=\"most_frequent\")\n",
    "test[[\"Store_Size\"]] = size_impute.fit_transform(test[[\"Store_Size\"]]) #fills with the mode"
   ]
  },
  {
   "cell_type": "code",
   "execution_count": 198,
   "metadata": {},
   "outputs": [
    {
     "data": {
      "text/plain": [
       "Item_ID                0\n",
       "Store_ID               0\n",
       "Item_Store_ID          0\n",
       "Item_Weight            0\n",
       "Item_Sugar_Content     0\n",
       "Item_Visibility        0\n",
       "Item_Type              0\n",
       "Item_Price             0\n",
       "Store_Start_Year       0\n",
       "Store_Size             0\n",
       "Store_Location_Type    0\n",
       "Store_Type             0\n",
       "dtype: int64"
      ]
     },
     "execution_count": 198,
     "metadata": {},
     "output_type": "execute_result"
    }
   ],
   "source": [
    "test.isnull().sum()"
   ]
  },
  {
   "cell_type": "code",
   "execution_count": 199,
   "metadata": {},
   "outputs": [],
   "source": [
    "test = test.drop([\"Item_ID\",\"Store_ID\",\"Item_Store_ID\",\"Store_Start_Year\"],axis = \"columns\")"
   ]
  },
  {
   "cell_type": "code",
   "execution_count": 200,
   "metadata": {},
   "outputs": [
    {
     "data": {
      "text/html": [
       "<div>\n",
       "<style scoped>\n",
       "    .dataframe tbody tr th:only-of-type {\n",
       "        vertical-align: middle;\n",
       "    }\n",
       "\n",
       "    .dataframe tbody tr th {\n",
       "        vertical-align: top;\n",
       "    }\n",
       "\n",
       "    .dataframe thead th {\n",
       "        text-align: right;\n",
       "    }\n",
       "</style>\n",
       "<table border=\"1\" class=\"dataframe\">\n",
       "  <thead>\n",
       "    <tr style=\"text-align: right;\">\n",
       "      <th></th>\n",
       "      <th>Item_Weight</th>\n",
       "      <th>Item_Sugar_Content</th>\n",
       "      <th>Item_Visibility</th>\n",
       "      <th>Item_Type</th>\n",
       "      <th>Item_Price</th>\n",
       "      <th>Store_Size</th>\n",
       "      <th>Store_Location_Type</th>\n",
       "      <th>Store_Type</th>\n",
       "    </tr>\n",
       "  </thead>\n",
       "  <tbody>\n",
       "    <tr>\n",
       "      <td>0</td>\n",
       "      <td>8.270</td>\n",
       "      <td>Normal Sugar</td>\n",
       "      <td>0.214125</td>\n",
       "      <td>Soft Drinks</td>\n",
       "      <td>459.98</td>\n",
       "      <td>Medium</td>\n",
       "      <td>Cluster 3</td>\n",
       "      <td>Grocery Store</td>\n",
       "    </tr>\n",
       "    <tr>\n",
       "      <td>1</td>\n",
       "      <td>8.270</td>\n",
       "      <td>Normal Sugar</td>\n",
       "      <td>0.127821</td>\n",
       "      <td>Soft Drinks</td>\n",
       "      <td>464.98</td>\n",
       "      <td>High</td>\n",
       "      <td>Cluster 3</td>\n",
       "      <td>Supermarket Type1</td>\n",
       "    </tr>\n",
       "    <tr>\n",
       "      <td>2</td>\n",
       "      <td>7.390</td>\n",
       "      <td>Low Sugar</td>\n",
       "      <td>0.082171</td>\n",
       "      <td>Soft Drinks</td>\n",
       "      <td>477.38</td>\n",
       "      <td>High</td>\n",
       "      <td>Cluster 3</td>\n",
       "      <td>Supermarket Type1</td>\n",
       "    </tr>\n",
       "    <tr>\n",
       "      <td>3</td>\n",
       "      <td>6.115</td>\n",
       "      <td>Normal Sugar</td>\n",
       "      <td>0.011791</td>\n",
       "      <td>Soft Drinks</td>\n",
       "      <td>472.63</td>\n",
       "      <td>Medium</td>\n",
       "      <td>Cluster 3</td>\n",
       "      <td>Grocery Store</td>\n",
       "    </tr>\n",
       "    <tr>\n",
       "      <td>4</td>\n",
       "      <td>6.115</td>\n",
       "      <td>Normal Sugar</td>\n",
       "      <td>0.007038</td>\n",
       "      <td>Soft Drinks</td>\n",
       "      <td>473.13</td>\n",
       "      <td>High</td>\n",
       "      <td>Cluster 3</td>\n",
       "      <td>Supermarket Type1</td>\n",
       "    </tr>\n",
       "  </tbody>\n",
       "</table>\n",
       "</div>"
      ],
      "text/plain": [
       "   Item_Weight Item_Sugar_Content  Item_Visibility    Item_Type  Item_Price  \\\n",
       "0        8.270       Normal Sugar         0.214125  Soft Drinks      459.98   \n",
       "1        8.270       Normal Sugar         0.127821  Soft Drinks      464.98   \n",
       "2        7.390          Low Sugar         0.082171  Soft Drinks      477.38   \n",
       "3        6.115       Normal Sugar         0.011791  Soft Drinks      472.63   \n",
       "4        6.115       Normal Sugar         0.007038  Soft Drinks      473.13   \n",
       "\n",
       "  Store_Size Store_Location_Type         Store_Type  \n",
       "0     Medium           Cluster 3      Grocery Store  \n",
       "1       High           Cluster 3  Supermarket Type1  \n",
       "2       High           Cluster 3  Supermarket Type1  \n",
       "3     Medium           Cluster 3      Grocery Store  \n",
       "4       High           Cluster 3  Supermarket Type1  "
      ]
     },
     "execution_count": 200,
     "metadata": {},
     "output_type": "execute_result"
    }
   ],
   "source": [
    "test.head()"
   ]
  },
  {
   "cell_type": "code",
   "execution_count": 201,
   "metadata": {},
   "outputs": [],
   "source": [
    "#encoding the categorical variables\n",
    "from sklearn.compose import ColumnTransformer\n",
    "from sklearn.preprocessing import OneHotEncoder"
   ]
  },
  {
   "cell_type": "code",
   "execution_count": 202,
   "metadata": {},
   "outputs": [],
   "source": [
    "region = ColumnTransformer(transformers=[(\"encoder\",OneHotEncoder(),[1])],remainder=\"passthrough\")\n",
    "test = pd.DataFrame(region.fit_transform(test),columns = region.get_feature_names())"
   ]
  },
  {
   "cell_type": "code",
   "execution_count": 203,
   "metadata": {},
   "outputs": [],
   "source": [
    "item_type = ColumnTransformer(transformers=[(\"encoder\",OneHotEncoder(),[5])],remainder=\"passthrough\")\n",
    "test= pd.DataFrame(item_type.fit_transform(test),columns = item_type.get_feature_names())"
   ]
  },
  {
   "cell_type": "code",
   "execution_count": 204,
   "metadata": {},
   "outputs": [],
   "source": [
    "store = ColumnTransformer(transformers=[(\"encoder\",OneHotEncoder(),[22])],remainder=\"passthrough\")\n",
    "test = pd.DataFrame(store.fit_transform(test),columns = store.get_feature_names())"
   ]
  },
  {
   "cell_type": "code",
   "execution_count": 205,
   "metadata": {},
   "outputs": [],
   "source": [
    "s = ColumnTransformer(transformers=[(\"encoder\",OneHotEncoder(),[25])],remainder=\"passthrough\")\n",
    "test = pd.DataFrame(s.fit_transform(test),columns = s.get_feature_names())"
   ]
  },
  {
   "cell_type": "code",
   "execution_count": 206,
   "metadata": {},
   "outputs": [],
   "source": [
    "st = ColumnTransformer(transformers=[(\"encoder\",OneHotEncoder(),[28])],remainder=\"passthrough\")\n",
    "test = pd.DataFrame(st.fit_transform(test),columns = st.get_feature_names())"
   ]
  },
  {
   "cell_type": "code",
   "execution_count": 207,
   "metadata": {},
   "outputs": [],
   "source": [
    "import numpy as np\n",
    "from sklearn.preprocessing import MinMaxScaler\n",
    "from sklearn.model_selection import train_test_split"
   ]
  },
  {
   "cell_type": "code",
   "execution_count": 208,
   "metadata": {},
   "outputs": [],
   "source": [
    "xx = test.iloc[:,:29]"
   ]
  },
  {
   "cell_type": "code",
   "execution_count": 209,
   "metadata": {},
   "outputs": [],
   "source": [
    "xy = test.iloc[:,29:]"
   ]
  },
  {
   "cell_type": "code",
   "execution_count": 210,
   "metadata": {},
   "outputs": [],
   "source": [
    "scaler = MinMaxScaler()\n",
    "\n",
    "normalised_X2 = pd.DataFrame(scaler.fit_transform(xy),columns =xy.columns)\n",
    "test = pd.concat([xx,normalised_X2],axis = 1)                                   "
   ]
  },
  {
   "cell_type": "code",
   "execution_count": 211,
   "metadata": {},
   "outputs": [
    {
     "data": {
      "text/html": [
       "<div>\n",
       "<style scoped>\n",
       "    .dataframe tbody tr th:only-of-type {\n",
       "        vertical-align: middle;\n",
       "    }\n",
       "\n",
       "    .dataframe tbody tr th {\n",
       "        vertical-align: top;\n",
       "    }\n",
       "\n",
       "    .dataframe thead th {\n",
       "        text-align: right;\n",
       "    }\n",
       "</style>\n",
       "<table border=\"1\" class=\"dataframe\">\n",
       "  <thead>\n",
       "    <tr style=\"text-align: right;\">\n",
       "      <th></th>\n",
       "      <th>encoder__x0_Grocery Store</th>\n",
       "      <th>encoder__x0_Supermarket Type1</th>\n",
       "      <th>encoder__x0_Supermarket Type2</th>\n",
       "      <th>encoder__x0_Supermarket Type3</th>\n",
       "      <th>encoder__x0_Cluster 1</th>\n",
       "      <th>encoder__x0_Cluster 2</th>\n",
       "      <th>encoder__x0_Cluster 3</th>\n",
       "      <th>encoder__x0_High</th>\n",
       "      <th>encoder__x0_Medium</th>\n",
       "      <th>encoder__x0_Small</th>\n",
       "      <th>...</th>\n",
       "      <th>encoder__x0_Seafood</th>\n",
       "      <th>encoder__x0_Snack Foods</th>\n",
       "      <th>encoder__x0_Soft Drinks</th>\n",
       "      <th>encoder__x0_Starchy Foods</th>\n",
       "      <th>encoder__x0_Low Sugar</th>\n",
       "      <th>encoder__x0_Normal Sugar</th>\n",
       "      <th>encoder__x0_Ultra Low Sugar</th>\n",
       "      <th>Item_Weight</th>\n",
       "      <th>Item_Visibility</th>\n",
       "      <th>Item_Price</th>\n",
       "    </tr>\n",
       "  </thead>\n",
       "  <tbody>\n",
       "    <tr>\n",
       "      <td>0</td>\n",
       "      <td>1</td>\n",
       "      <td>0</td>\n",
       "      <td>0</td>\n",
       "      <td>0</td>\n",
       "      <td>0</td>\n",
       "      <td>0</td>\n",
       "      <td>1</td>\n",
       "      <td>0</td>\n",
       "      <td>1</td>\n",
       "      <td>0</td>\n",
       "      <td>...</td>\n",
       "      <td>0</td>\n",
       "      <td>0</td>\n",
       "      <td>1</td>\n",
       "      <td>0</td>\n",
       "      <td>0</td>\n",
       "      <td>1</td>\n",
       "      <td>0</td>\n",
       "      <td>0.221197</td>\n",
       "      <td>0.666818</td>\n",
       "      <td>0.648143</td>\n",
       "    </tr>\n",
       "    <tr>\n",
       "      <td>1</td>\n",
       "      <td>0</td>\n",
       "      <td>1</td>\n",
       "      <td>0</td>\n",
       "      <td>0</td>\n",
       "      <td>0</td>\n",
       "      <td>0</td>\n",
       "      <td>1</td>\n",
       "      <td>1</td>\n",
       "      <td>0</td>\n",
       "      <td>0</td>\n",
       "      <td>...</td>\n",
       "      <td>0</td>\n",
       "      <td>0</td>\n",
       "      <td>1</td>\n",
       "      <td>0</td>\n",
       "      <td>0</td>\n",
       "      <td>1</td>\n",
       "      <td>0</td>\n",
       "      <td>0.221197</td>\n",
       "      <td>0.398055</td>\n",
       "      <td>0.656633</td>\n",
       "    </tr>\n",
       "    <tr>\n",
       "      <td>2</td>\n",
       "      <td>0</td>\n",
       "      <td>1</td>\n",
       "      <td>0</td>\n",
       "      <td>0</td>\n",
       "      <td>0</td>\n",
       "      <td>0</td>\n",
       "      <td>1</td>\n",
       "      <td>1</td>\n",
       "      <td>0</td>\n",
       "      <td>0</td>\n",
       "      <td>...</td>\n",
       "      <td>0</td>\n",
       "      <td>0</td>\n",
       "      <td>1</td>\n",
       "      <td>0</td>\n",
       "      <td>1</td>\n",
       "      <td>0</td>\n",
       "      <td>0</td>\n",
       "      <td>0.168800</td>\n",
       "      <td>0.255893</td>\n",
       "      <td>0.677686</td>\n",
       "    </tr>\n",
       "    <tr>\n",
       "      <td>3</td>\n",
       "      <td>1</td>\n",
       "      <td>0</td>\n",
       "      <td>0</td>\n",
       "      <td>0</td>\n",
       "      <td>0</td>\n",
       "      <td>0</td>\n",
       "      <td>1</td>\n",
       "      <td>0</td>\n",
       "      <td>1</td>\n",
       "      <td>0</td>\n",
       "      <td>...</td>\n",
       "      <td>0</td>\n",
       "      <td>0</td>\n",
       "      <td>1</td>\n",
       "      <td>0</td>\n",
       "      <td>0</td>\n",
       "      <td>1</td>\n",
       "      <td>0</td>\n",
       "      <td>0.092885</td>\n",
       "      <td>0.036718</td>\n",
       "      <td>0.669621</td>\n",
       "    </tr>\n",
       "    <tr>\n",
       "      <td>4</td>\n",
       "      <td>0</td>\n",
       "      <td>1</td>\n",
       "      <td>0</td>\n",
       "      <td>0</td>\n",
       "      <td>0</td>\n",
       "      <td>0</td>\n",
       "      <td>1</td>\n",
       "      <td>1</td>\n",
       "      <td>0</td>\n",
       "      <td>0</td>\n",
       "      <td>...</td>\n",
       "      <td>0</td>\n",
       "      <td>0</td>\n",
       "      <td>1</td>\n",
       "      <td>0</td>\n",
       "      <td>0</td>\n",
       "      <td>1</td>\n",
       "      <td>0</td>\n",
       "      <td>0.092885</td>\n",
       "      <td>0.021919</td>\n",
       "      <td>0.670470</td>\n",
       "    </tr>\n",
       "  </tbody>\n",
       "</table>\n",
       "<p>5 rows × 32 columns</p>\n",
       "</div>"
      ],
      "text/plain": [
       "  encoder__x0_Grocery Store encoder__x0_Supermarket Type1  \\\n",
       "0                         1                             0   \n",
       "1                         0                             1   \n",
       "2                         0                             1   \n",
       "3                         1                             0   \n",
       "4                         0                             1   \n",
       "\n",
       "  encoder__x0_Supermarket Type2 encoder__x0_Supermarket Type3  \\\n",
       "0                             0                             0   \n",
       "1                             0                             0   \n",
       "2                             0                             0   \n",
       "3                             0                             0   \n",
       "4                             0                             0   \n",
       "\n",
       "  encoder__x0_Cluster 1 encoder__x0_Cluster 2 encoder__x0_Cluster 3  \\\n",
       "0                     0                     0                     1   \n",
       "1                     0                     0                     1   \n",
       "2                     0                     0                     1   \n",
       "3                     0                     0                     1   \n",
       "4                     0                     0                     1   \n",
       "\n",
       "  encoder__x0_High encoder__x0_Medium encoder__x0_Small  ...  \\\n",
       "0                0                  1                 0  ...   \n",
       "1                1                  0                 0  ...   \n",
       "2                1                  0                 0  ...   \n",
       "3                0                  1                 0  ...   \n",
       "4                1                  0                 0  ...   \n",
       "\n",
       "  encoder__x0_Seafood encoder__x0_Snack Foods encoder__x0_Soft Drinks  \\\n",
       "0                   0                       0                       1   \n",
       "1                   0                       0                       1   \n",
       "2                   0                       0                       1   \n",
       "3                   0                       0                       1   \n",
       "4                   0                       0                       1   \n",
       "\n",
       "  encoder__x0_Starchy Foods encoder__x0_Low Sugar encoder__x0_Normal Sugar  \\\n",
       "0                         0                     0                        1   \n",
       "1                         0                     0                        1   \n",
       "2                         0                     1                        0   \n",
       "3                         0                     0                        1   \n",
       "4                         0                     0                        1   \n",
       "\n",
       "  encoder__x0_Ultra Low Sugar Item_Weight Item_Visibility Item_Price  \n",
       "0                           0    0.221197        0.666818   0.648143  \n",
       "1                           0    0.221197        0.398055   0.656633  \n",
       "2                           0    0.168800        0.255893   0.677686  \n",
       "3                           0    0.092885        0.036718   0.669621  \n",
       "4                           0    0.092885        0.021919   0.670470  \n",
       "\n",
       "[5 rows x 32 columns]"
      ]
     },
     "execution_count": 211,
     "metadata": {},
     "output_type": "execute_result"
    }
   ],
   "source": [
    "test.head()"
   ]
  },
  {
   "cell_type": "code",
   "execution_count": 212,
   "metadata": {},
   "outputs": [],
   "source": [
    "predict = reg.predict(test)"
   ]
  },
  {
   "cell_type": "code",
   "execution_count": 213,
   "metadata": {},
   "outputs": [
    {
     "data": {
      "text/plain": [
       "array([3616., 7328., 7328., ..., 9280., 3552., 7072.])"
      ]
     },
     "execution_count": 213,
     "metadata": {},
     "output_type": "execute_result"
    }
   ],
   "source": [
    "predict"
   ]
  },
  {
   "cell_type": "code",
   "execution_count": 216,
   "metadata": {},
   "outputs": [],
   "source": [
    "tests = pd.DataFrame(predict,test.Item_Store_ID)"
   ]
  },
  {
   "cell_type": "code",
   "execution_count": 217,
   "metadata": {},
   "outputs": [
    {
     "data": {
      "text/html": [
       "<div>\n",
       "<style scoped>\n",
       "    .dataframe tbody tr th:only-of-type {\n",
       "        vertical-align: middle;\n",
       "    }\n",
       "\n",
       "    .dataframe tbody tr th {\n",
       "        vertical-align: top;\n",
       "    }\n",
       "\n",
       "    .dataframe thead th {\n",
       "        text-align: right;\n",
       "    }\n",
       "</style>\n",
       "<table border=\"1\" class=\"dataframe\">\n",
       "  <thead>\n",
       "    <tr style=\"text-align: right;\">\n",
       "      <th></th>\n",
       "      <th>0</th>\n",
       "    </tr>\n",
       "    <tr>\n",
       "      <th>Item_Store_ID</th>\n",
       "      <th></th>\n",
       "    </tr>\n",
       "  </thead>\n",
       "  <tbody>\n",
       "    <tr>\n",
       "      <td>DRA59_BABATUNJI010</td>\n",
       "      <td>3616.0</td>\n",
       "    </tr>\n",
       "    <tr>\n",
       "      <td>DRA59_BABATUNJI013</td>\n",
       "      <td>7328.0</td>\n",
       "    </tr>\n",
       "    <tr>\n",
       "      <td>DRB01_BABATUNJI013</td>\n",
       "      <td>7328.0</td>\n",
       "    </tr>\n",
       "    <tr>\n",
       "      <td>DRB13_BABATUNJI010</td>\n",
       "      <td>4032.0</td>\n",
       "    </tr>\n",
       "    <tr>\n",
       "      <td>DRB13_BABATUNJI013</td>\n",
       "      <td>7616.0</td>\n",
       "    </tr>\n",
       "  </tbody>\n",
       "</table>\n",
       "</div>"
      ],
      "text/plain": [
       "                         0\n",
       "Item_Store_ID             \n",
       "DRA59_BABATUNJI010  3616.0\n",
       "DRA59_BABATUNJI013  7328.0\n",
       "DRB01_BABATUNJI013  7328.0\n",
       "DRB13_BABATUNJI010  4032.0\n",
       "DRB13_BABATUNJI013  7616.0"
      ]
     },
     "execution_count": 217,
     "metadata": {},
     "output_type": "execute_result"
    }
   ],
   "source": [
    "tests.head()"
   ]
  },
  {
   "cell_type": "code",
   "execution_count": null,
   "metadata": {},
   "outputs": [],
   "source": []
  }
 ],
 "metadata": {
  "kernelspec": {
   "display_name": "Python 3",
   "language": "python",
   "name": "python3"
  },
  "language_info": {
   "codemirror_mode": {
    "name": "ipython",
    "version": 3
   },
   "file_extension": ".py",
   "mimetype": "text/x-python",
   "name": "python",
   "nbconvert_exporter": "python",
   "pygments_lexer": "ipython3",
   "version": "3.7.4"
  }
 },
 "nbformat": 4,
 "nbformat_minor": 2
}
